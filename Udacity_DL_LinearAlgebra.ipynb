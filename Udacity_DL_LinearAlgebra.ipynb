{
  "nbformat": 4,
  "nbformat_minor": 0,
  "metadata": {
    "colab": {
      "name": "Udacity_DL_LinearAlgebra.ipynb",
      "provenance": [],
      "collapsed_sections": [],
      "authorship_tag": "ABX9TyNTYmGcmbXRyd6A4zzmOWc2",
      "include_colab_link": true
    },
    "kernelspec": {
      "name": "python3",
      "display_name": "Python 3"
    },
    "language_info": {
      "name": "python"
    }
  },
  "cells": [
    {
      "cell_type": "markdown",
      "metadata": {
        "id": "view-in-github",
        "colab_type": "text"
      },
      "source": [
        "<a href=\"https://colab.research.google.com/github/vedpd/Udacity-Deep-Learning-Nanodegree/blob/main/Udacity_DL_LinearAlgebra.ipynb\" target=\"_parent\"><img src=\"https://colab.research.google.com/assets/colab-badge.svg\" alt=\"Open In Colab\"/></a>"
      ]
    },
    {
      "cell_type": "code",
      "metadata": {
        "id": "CTncd3aNgAMA"
      },
      "source": [
        "import numpy as np"
      ],
      "execution_count": 41,
      "outputs": []
    },
    {
      "cell_type": "code",
      "metadata": {
        "id": "lomo-KYFgCKw"
      },
      "source": [
        "x = np.array([[[1],[2],[3]], [[4],[5],[6]]])"
      ],
      "execution_count": 42,
      "outputs": []
    },
    {
      "cell_type": "code",
      "metadata": {
        "colab": {
          "base_uri": "https://localhost:8080/"
        },
        "id": "oZ9QJadEgHQi",
        "outputId": "1bd97773-b7eb-4bff-d94c-15ddf3525945"
      },
      "source": [
        "x"
      ],
      "execution_count": 43,
      "outputs": [
        {
          "output_type": "execute_result",
          "data": {
            "text/plain": [
              "array([[[1],\n",
              "        [2],\n",
              "        [3]],\n",
              "\n",
              "       [[4],\n",
              "        [5],\n",
              "        [6]]])"
            ]
          },
          "metadata": {
            "tags": []
          },
          "execution_count": 43
        }
      ]
    },
    {
      "cell_type": "code",
      "metadata": {
        "colab": {
          "base_uri": "https://localhost:8080/"
        },
        "id": "_Xv_lGOagIGZ",
        "outputId": "417d0cc9-e42b-4d38-8f43-bad584ee28df"
      },
      "source": [
        "x.shape"
      ],
      "execution_count": 44,
      "outputs": [
        {
          "output_type": "execute_result",
          "data": {
            "text/plain": [
              "(2, 3, 1)"
            ]
          },
          "metadata": {
            "tags": []
          },
          "execution_count": 44
        }
      ]
    },
    {
      "cell_type": "code",
      "metadata": {
        "id": "lT50sJNWgK6I"
      },
      "source": [
        "y=  np.array([[1,2,3],[4,5,6]])"
      ],
      "execution_count": 45,
      "outputs": []
    },
    {
      "cell_type": "code",
      "metadata": {
        "colab": {
          "base_uri": "https://localhost:8080/"
        },
        "id": "5kmOxs7BgU1x",
        "outputId": "a7653af1-4620-460e-ff04-c2b0795bf9db"
      },
      "source": [
        "y"
      ],
      "execution_count": 46,
      "outputs": [
        {
          "output_type": "execute_result",
          "data": {
            "text/plain": [
              "array([[1, 2, 3],\n",
              "       [4, 5, 6]])"
            ]
          },
          "metadata": {
            "tags": []
          },
          "execution_count": 46
        }
      ]
    },
    {
      "cell_type": "code",
      "metadata": {
        "colab": {
          "base_uri": "https://localhost:8080/"
        },
        "id": "6-yuTLJZgVzN",
        "outputId": "25ccd462-6820-4be3-c643-6dbc1fb9425b"
      },
      "source": [
        "y.shape"
      ],
      "execution_count": 47,
      "outputs": [
        {
          "output_type": "execute_result",
          "data": {
            "text/plain": [
              "(2, 3)"
            ]
          },
          "metadata": {
            "tags": []
          },
          "execution_count": 47
        }
      ]
    },
    {
      "cell_type": "code",
      "metadata": {
        "id": "R30ZYL9XgXvF"
      },
      "source": [
        "z= np.array([1,2,3])"
      ],
      "execution_count": 48,
      "outputs": []
    },
    {
      "cell_type": "code",
      "metadata": {
        "colab": {
          "base_uri": "https://localhost:8080/"
        },
        "id": "0LjP0gZcgcAA",
        "outputId": "b7b576b6-4fb7-4bbe-a47f-cc6a03c3020d"
      },
      "source": [
        "z"
      ],
      "execution_count": 49,
      "outputs": [
        {
          "output_type": "execute_result",
          "data": {
            "text/plain": [
              "array([1, 2, 3])"
            ]
          },
          "metadata": {
            "tags": []
          },
          "execution_count": 49
        }
      ]
    },
    {
      "cell_type": "code",
      "metadata": {
        "colab": {
          "base_uri": "https://localhost:8080/"
        },
        "id": "dXgS9qY9gc3g",
        "outputId": "be760562-d812-4b48-a5e3-32048397a7be"
      },
      "source": [
        "z.shape"
      ],
      "execution_count": 50,
      "outputs": [
        {
          "output_type": "execute_result",
          "data": {
            "text/plain": [
              "(3,)"
            ]
          },
          "metadata": {
            "tags": []
          },
          "execution_count": 50
        }
      ]
    },
    {
      "cell_type": "code",
      "metadata": {
        "id": "H9G__eHjgePe"
      },
      "source": [
        "m=  np.array([[1,2,3],])"
      ],
      "execution_count": 51,
      "outputs": []
    },
    {
      "cell_type": "code",
      "metadata": {
        "colab": {
          "base_uri": "https://localhost:8080/"
        },
        "id": "NIBA91nsgjZA",
        "outputId": "165dc207-b816-4c67-9cb7-0d3d8c9d0af5"
      },
      "source": [
        "m"
      ],
      "execution_count": 52,
      "outputs": [
        {
          "output_type": "execute_result",
          "data": {
            "text/plain": [
              "array([[1, 2, 3]])"
            ]
          },
          "metadata": {
            "tags": []
          },
          "execution_count": 52
        }
      ]
    },
    {
      "cell_type": "code",
      "metadata": {
        "colab": {
          "base_uri": "https://localhost:8080/"
        },
        "id": "W5kI7um8gkRI",
        "outputId": "61055e7d-fcab-48ab-f8b4-1b94adcf823a"
      },
      "source": [
        "m.shape"
      ],
      "execution_count": 53,
      "outputs": [
        {
          "output_type": "execute_result",
          "data": {
            "text/plain": [
              "(1, 3)"
            ]
          },
          "metadata": {
            "tags": []
          },
          "execution_count": 53
        }
      ]
    },
    {
      "cell_type": "markdown",
      "metadata": {
        "id": "EGnUGu0yrm6O"
      },
      "source": [
        "## Operations on matrices using numpy\n",
        "### element wise addition and multiplication"
      ]
    },
    {
      "cell_type": "code",
      "metadata": {
        "colab": {
          "base_uri": "https://localhost:8080/"
        },
        "id": "pUEkxRy6glhG",
        "outputId": "956ad42d-4a49-4bc6-a232-c28d352a84bb"
      },
      "source": [
        "# using list from python\n",
        "\n",
        "values = [1,2,3,4,5]\n",
        "\n",
        "for i in range(len(values)):\n",
        "  values[i]+=5\n",
        "\n",
        "print (values)"
      ],
      "execution_count": 54,
      "outputs": [
        {
          "output_type": "stream",
          "text": [
            "[6, 7, 8, 9, 10]\n"
          ],
          "name": "stdout"
        }
      ]
    },
    {
      "cell_type": "code",
      "metadata": {
        "colab": {
          "base_uri": "https://localhost:8080/"
        },
        "id": "UOWVmNdMrpn7",
        "outputId": "53d3fef0-9693-4cbc-d4f7-7ec0578c1c82"
      },
      "source": [
        "# using numpy\n",
        "value = np.array([1,2,3,4,5])\n",
        "\n",
        "value = value + 5\n",
        "\n",
        "print (value)"
      ],
      "execution_count": 55,
      "outputs": [
        {
          "output_type": "stream",
          "text": [
            "[ 6  7  8  9 10]\n"
          ],
          "name": "stdout"
        }
      ]
    },
    {
      "cell_type": "code",
      "metadata": {
        "colab": {
          "base_uri": "https://localhost:8080/"
        },
        "id": "s7GPVlAir1ZC",
        "outputId": "a6d5a7c2-4327-4fc9-e0b9-ad9e74c3ec30"
      },
      "source": [
        "values = np.array(values) + 5\n",
        "print(values)\n",
        "# Alternate way\n",
        "\n",
        "type(values)\n",
        "\n",
        "values = values + 5\n",
        "print (values)"
      ],
      "execution_count": 56,
      "outputs": [
        {
          "output_type": "stream",
          "text": [
            "[11 12 13 14 15]\n",
            "[16 17 18 19 20]\n"
          ],
          "name": "stdout"
        }
      ]
    },
    {
      "cell_type": "code",
      "metadata": {
        "colab": {
          "base_uri": "https://localhost:8080/"
        },
        "id": "Dty_0bGmsPK0",
        "outputId": "349e673a-7fe6-4aec-9921-72f2310a74d5"
      },
      "source": [
        "# Let's do some multiplication\n",
        "\n",
        "some_array =  np.ndarray([1,2,1,2])\n",
        "\n",
        "x= np. multiply(some_array, 2)\n",
        "\n",
        "y = some_array * 2 # if some_array is already converted to numpy ndarray format\n",
        "\n",
        "print ( x )\n",
        "\n",
        "print ( y )"
      ],
      "execution_count": 57,
      "outputs": [
        {
          "output_type": "stream",
          "text": [
            "[[[[2.e-323 2.e-323]]\n",
            "\n",
            "  [[2.e-323 0.e+000]]]]\n",
            "[[[[2.e-323 2.e-323]]\n",
            "\n",
            "  [[2.e-323 0.e+000]]]]\n"
          ],
          "name": "stdout"
        }
      ]
    },
    {
      "cell_type": "code",
      "metadata": {
        "id": "lCU816qQtR2W"
      },
      "source": [
        "# get the square of a matrix\n",
        "\n",
        "a = np.array([[1,3],[5,7]])"
      ],
      "execution_count": 58,
      "outputs": []
    },
    {
      "cell_type": "code",
      "metadata": {
        "colab": {
          "base_uri": "https://localhost:8080/"
        },
        "id": "QrnWcBJ3tpJZ",
        "outputId": "00a5e446-a307-420f-a9b3-0ab0e09e8cb5"
      },
      "source": [
        "a"
      ],
      "execution_count": 59,
      "outputs": [
        {
          "output_type": "execute_result",
          "data": {
            "text/plain": [
              "array([[1, 3],\n",
              "       [5, 7]])"
            ]
          },
          "metadata": {
            "tags": []
          },
          "execution_count": 59
        }
      ]
    },
    {
      "cell_type": "code",
      "metadata": {
        "id": "HxZBYlyttrLO"
      },
      "source": [
        "# element wise multiplication\n",
        "square = a*a"
      ],
      "execution_count": 60,
      "outputs": []
    },
    {
      "cell_type": "code",
      "metadata": {
        "colab": {
          "base_uri": "https://localhost:8080/"
        },
        "id": "Zo49hGwityXA",
        "outputId": "eed48eae-52f1-46cc-bbe6-6651ca621f36"
      },
      "source": [
        "square"
      ],
      "execution_count": 61,
      "outputs": [
        {
          "output_type": "execute_result",
          "data": {
            "text/plain": [
              "array([[ 1,  9],\n",
              "       [25, 49]])"
            ]
          },
          "metadata": {
            "tags": []
          },
          "execution_count": 61
        }
      ]
    },
    {
      "cell_type": "code",
      "metadata": {
        "id": "21zYqlHutzdW"
      },
      "source": [
        "sq_new = np.multiply(a,a)"
      ],
      "execution_count": 62,
      "outputs": []
    },
    {
      "cell_type": "code",
      "metadata": {
        "colab": {
          "base_uri": "https://localhost:8080/"
        },
        "id": "VXG-e4Twt4Va",
        "outputId": "93f2e22b-2738-4c6d-a1de-1c9c9c34e37a"
      },
      "source": [
        "sq_new"
      ],
      "execution_count": 63,
      "outputs": [
        {
          "output_type": "execute_result",
          "data": {
            "text/plain": [
              "array([[ 1,  9],\n",
              "       [25, 49]])"
            ]
          },
          "metadata": {
            "tags": []
          },
          "execution_count": 63
        }
      ]
    },
    {
      "cell_type": "code",
      "metadata": {
        "id": "JQEtOdnwt56l"
      },
      "source": [
        "b = np.array([[2,4],[6,8]])"
      ],
      "execution_count": 64,
      "outputs": []
    },
    {
      "cell_type": "code",
      "metadata": {
        "colab": {
          "base_uri": "https://localhost:8080/"
        },
        "id": "C03VGRc3t_2R",
        "outputId": "7828f528-a60e-4a56-f78b-1f18bdf8314f"
      },
      "source": [
        "a + b"
      ],
      "execution_count": 65,
      "outputs": [
        {
          "output_type": "execute_result",
          "data": {
            "text/plain": [
              "array([[ 3,  7],\n",
              "       [11, 15]])"
            ]
          },
          "metadata": {
            "tags": []
          },
          "execution_count": 65
        }
      ]
    },
    {
      "cell_type": "markdown",
      "metadata": {
        "id": "AC1n8U2dij3q"
      },
      "source": [
        "## Numpy Matrix multiplication"
      ]
    },
    {
      "cell_type": "code",
      "metadata": {
        "id": "KhPGdKsguB5c"
      },
      "source": [
        "# Type 1 : Element wise\n",
        "\n",
        "m = np.array([[1,2,3],[4,5,6]])"
      ],
      "execution_count": 66,
      "outputs": []
    },
    {
      "cell_type": "code",
      "metadata": {
        "colab": {
          "base_uri": "https://localhost:8080/"
        },
        "id": "KUew8JYDjkn2",
        "outputId": "e65ee8ae-b641-49d2-f230-54941760a900"
      },
      "source": [
        "m"
      ],
      "execution_count": 67,
      "outputs": [
        {
          "output_type": "execute_result",
          "data": {
            "text/plain": [
              "array([[1, 2, 3],\n",
              "       [4, 5, 6]])"
            ]
          },
          "metadata": {
            "tags": []
          },
          "execution_count": 67
        }
      ]
    },
    {
      "cell_type": "code",
      "metadata": {
        "colab": {
          "base_uri": "https://localhost:8080/"
        },
        "id": "wgbnzGJFjk6H",
        "outputId": "326ce13e-843b-4a82-d07c-c8f79b14f62e"
      },
      "source": [
        "n= m * 0.25\n",
        "\n",
        "print(n)"
      ],
      "execution_count": 68,
      "outputs": [
        {
          "output_type": "stream",
          "text": [
            "[[0.25 0.5  0.75]\n",
            " [1.   1.25 1.5 ]]\n"
          ],
          "name": "stdout"
        }
      ]
    },
    {
      "cell_type": "code",
      "metadata": {
        "colab": {
          "base_uri": "https://localhost:8080/"
        },
        "id": "LxCa2fKujvxx",
        "outputId": "658632ee-3706-43cd-d2c6-decb03893e48"
      },
      "source": [
        "m *  n"
      ],
      "execution_count": 69,
      "outputs": [
        {
          "output_type": "execute_result",
          "data": {
            "text/plain": [
              "array([[0.25, 1.  , 2.25],\n",
              "       [4.  , 6.25, 9.  ]])"
            ]
          },
          "metadata": {
            "tags": []
          },
          "execution_count": 69
        }
      ]
    },
    {
      "cell_type": "code",
      "metadata": {
        "colab": {
          "base_uri": "https://localhost:8080/"
        },
        "id": "e0pJPC1RjzSh",
        "outputId": "92146124-0941-4590-d3a2-4f853da09d7b"
      },
      "source": [
        "np.multiply (m,n)"
      ],
      "execution_count": 70,
      "outputs": [
        {
          "output_type": "execute_result",
          "data": {
            "text/plain": [
              "array([[0.25, 1.  , 2.25],\n",
              "       [4.  , 6.25, 9.  ]])"
            ]
          },
          "metadata": {
            "tags": []
          },
          "execution_count": 70
        }
      ]
    },
    {
      "cell_type": "code",
      "metadata": {
        "colab": {
          "base_uri": "https://localhost:8080/"
        },
        "id": "FsMjzQe-j2yH",
        "outputId": "60fb8296-f8be-42c0-fec0-4edb19052961"
      },
      "source": [
        "# Type 2 : Matmul - behaves like dot product in 2 dimensions\n",
        "\n",
        "a = np.array([[1,2,3,4],[5,6,7,8]])\n",
        "a"
      ],
      "execution_count": 71,
      "outputs": [
        {
          "output_type": "execute_result",
          "data": {
            "text/plain": [
              "array([[1, 2, 3, 4],\n",
              "       [5, 6, 7, 8]])"
            ]
          },
          "metadata": {
            "tags": []
          },
          "execution_count": 71
        }
      ]
    },
    {
      "cell_type": "code",
      "metadata": {
        "colab": {
          "base_uri": "https://localhost:8080/"
        },
        "id": "JY3n60oUkDnL",
        "outputId": "a8cbead8-0f96-437c-be1a-7ab04c52b5cf"
      },
      "source": [
        "a.shape"
      ],
      "execution_count": 72,
      "outputs": [
        {
          "output_type": "execute_result",
          "data": {
            "text/plain": [
              "(2, 4)"
            ]
          },
          "metadata": {
            "tags": []
          },
          "execution_count": 72
        }
      ]
    },
    {
      "cell_type": "code",
      "metadata": {
        "colab": {
          "base_uri": "https://localhost:8080/"
        },
        "id": "-M_dkE9-kJeo",
        "outputId": "25e89a15-c3df-4af6-e49d-0fe30b401643"
      },
      "source": [
        "b = np.array([[1,2,3],[4,5,6],[7,8,9],[10,11,12]])\n",
        "b"
      ],
      "execution_count": 73,
      "outputs": [
        {
          "output_type": "execute_result",
          "data": {
            "text/plain": [
              "array([[ 1,  2,  3],\n",
              "       [ 4,  5,  6],\n",
              "       [ 7,  8,  9],\n",
              "       [10, 11, 12]])"
            ]
          },
          "metadata": {
            "tags": []
          },
          "execution_count": 73
        }
      ]
    },
    {
      "cell_type": "code",
      "metadata": {
        "colab": {
          "base_uri": "https://localhost:8080/"
        },
        "id": "upVfldTIkMlO",
        "outputId": "a26c8495-606a-4ce3-86ed-c4e75d3933ca"
      },
      "source": [
        "b.shape"
      ],
      "execution_count": 74,
      "outputs": [
        {
          "output_type": "execute_result",
          "data": {
            "text/plain": [
              "(4, 3)"
            ]
          },
          "metadata": {
            "tags": []
          },
          "execution_count": 74
        }
      ]
    },
    {
      "cell_type": "code",
      "metadata": {
        "colab": {
          "base_uri": "https://localhost:8080/"
        },
        "id": "_VoZKGddkNES",
        "outputId": "7b4d132f-57da-447b-cb44-609d3c9ae8bd"
      },
      "source": [
        "c = np.matmul(a,b)\n",
        "print(c)\n",
        "c.shape\n"
      ],
      "execution_count": 75,
      "outputs": [
        {
          "output_type": "stream",
          "text": [
            "[[ 70  80  90]\n",
            " [158 184 210]]\n"
          ],
          "name": "stdout"
        },
        {
          "output_type": "execute_result",
          "data": {
            "text/plain": [
              "(2, 3)"
            ]
          },
          "metadata": {
            "tags": []
          },
          "execution_count": 75
        }
      ]
    },
    {
      "cell_type": "code",
      "metadata": {
        "id": "qbqT5yOkkR0e"
      },
      "source": [
        "# Using dot product for the same matrix multiplication\n",
        "d = np.dot(a,b)"
      ],
      "execution_count": 76,
      "outputs": []
    },
    {
      "cell_type": "code",
      "metadata": {
        "colab": {
          "base_uri": "https://localhost:8080/"
        },
        "id": "4A5foclvkYt-",
        "outputId": "59f8db27-0a08-421f-87fa-0e4c419417ff"
      },
      "source": [
        "print(d)\n",
        "\n",
        "d.shape"
      ],
      "execution_count": 77,
      "outputs": [
        {
          "output_type": "stream",
          "text": [
            "[[ 70  80  90]\n",
            " [158 184 210]]\n"
          ],
          "name": "stdout"
        },
        {
          "output_type": "execute_result",
          "data": {
            "text/plain": [
              "(2, 3)"
            ]
          },
          "metadata": {
            "tags": []
          },
          "execution_count": 77
        }
      ]
    },
    {
      "cell_type": "code",
      "metadata": {
        "id": "oK4DMFyEkadU"
      },
      "source": [
        "# Checking for wrong size of multiplication\n",
        "# size of a = (2,4)\n",
        "# size of b = (4,3)\n",
        "# output of dot product of a and b = (2,3) size matrix\n",
        "# let's try doing the reverse"
      ],
      "execution_count": 78,
      "outputs": []
    },
    {
      "cell_type": "code",
      "metadata": {
        "colab": {
          "base_uri": "https://localhost:8080/",
          "height": 182
        },
        "id": "r_wd9LXIkupq",
        "outputId": "5382bdbb-e9c8-443d-891c-f8559cad3ef0"
      },
      "source": [
        "print(np.matmul(b,a))"
      ],
      "execution_count": 79,
      "outputs": [
        {
          "output_type": "error",
          "ename": "ValueError",
          "evalue": "ignored",
          "traceback": [
            "\u001b[0;31m---------------------------------------------------------------------------\u001b[0m",
            "\u001b[0;31mValueError\u001b[0m                                Traceback (most recent call last)",
            "\u001b[0;32m<ipython-input-79-de81496c30fa>\u001b[0m in \u001b[0;36m<module>\u001b[0;34m()\u001b[0m\n\u001b[0;32m----> 1\u001b[0;31m \u001b[0mprint\u001b[0m\u001b[0;34m(\u001b[0m\u001b[0mnp\u001b[0m\u001b[0;34m.\u001b[0m\u001b[0mmatmul\u001b[0m\u001b[0;34m(\u001b[0m\u001b[0mb\u001b[0m\u001b[0;34m,\u001b[0m\u001b[0ma\u001b[0m\u001b[0;34m)\u001b[0m\u001b[0;34m)\u001b[0m\u001b[0;34m\u001b[0m\u001b[0;34m\u001b[0m\u001b[0m\n\u001b[0m",
            "\u001b[0;31mValueError\u001b[0m: matmul: Input operand 1 has a mismatch in its core dimension 0, with gufunc signature (n?,k),(k,m?)->(n?,m?) (size 2 is different from 3)"
          ]
        }
      ]
    },
    {
      "cell_type": "code",
      "metadata": {
        "id": "_slaexCnkzcD"
      },
      "source": [
        "print(np.dot(b,a))"
      ],
      "execution_count": null,
      "outputs": []
    },
    {
      "cell_type": "markdown",
      "metadata": {
        "id": "Tg_XegJjlIGQ"
      },
      "source": [
        "While these functions return the same results for two dimensional data, you should be careful about which you choose when working with other data shapes. You can read more about the differences, and find links to other NumPy functions, in the [matmul](https://numpy.org/doc/stable/reference/generated/numpy.matmul.html#numpy.matmul) and [dot](https://numpy.org/doc/stable/reference/generated/numpy.dot.html) documentation."
      ]
    },
    {
      "cell_type": "markdown",
      "metadata": {
        "id": "YU-Gh4xjs0G_"
      },
      "source": [
        "## Matrix Transpose"
      ]
    },
    {
      "cell_type": "code",
      "metadata": {
        "colab": {
          "base_uri": "https://localhost:8080/"
        },
        "id": "qs6zrdGSk2gz",
        "outputId": "14abf8c1-b542-4652-b832-6f302ab559e3"
      },
      "source": [
        "m = np.array([[1,2,3,4], [5,6,7,8], [9,10,11,12]])\n",
        "m"
      ],
      "execution_count": 80,
      "outputs": [
        {
          "output_type": "execute_result",
          "data": {
            "text/plain": [
              "array([[ 1,  2,  3,  4],\n",
              "       [ 5,  6,  7,  8],\n",
              "       [ 9, 10, 11, 12]])"
            ]
          },
          "metadata": {
            "tags": []
          },
          "execution_count": 80
        }
      ]
    },
    {
      "cell_type": "code",
      "metadata": {
        "colab": {
          "base_uri": "https://localhost:8080/"
        },
        "id": "XWRi5526s2Hj",
        "outputId": "cde269d4-7eab-45b9-8281-2d88cd7a4543"
      },
      "source": [
        "m.T"
      ],
      "execution_count": 81,
      "outputs": [
        {
          "output_type": "execute_result",
          "data": {
            "text/plain": [
              "array([[ 1,  5,  9],\n",
              "       [ 2,  6, 10],\n",
              "       [ 3,  7, 11],\n",
              "       [ 4,  8, 12]])"
            ]
          },
          "metadata": {
            "tags": []
          },
          "execution_count": 81
        }
      ]
    },
    {
      "cell_type": "code",
      "metadata": {
        "colab": {
          "base_uri": "https://localhost:8080/"
        },
        "id": "bT6d2w0vtDT3",
        "outputId": "c14aa73a-491c-4ef3-ccf5-051ea76f4ab0"
      },
      "source": [
        "m_T = m.T\n",
        "\n",
        "m_T[3][1] = 200\n",
        "\n",
        "m_T"
      ],
      "execution_count": 82,
      "outputs": [
        {
          "output_type": "execute_result",
          "data": {
            "text/plain": [
              "array([[  1,   5,   9],\n",
              "       [  2,   6,  10],\n",
              "       [  3,   7,  11],\n",
              "       [  4, 200,  12]])"
            ]
          },
          "metadata": {
            "tags": []
          },
          "execution_count": 82
        }
      ]
    },
    {
      "cell_type": "code",
      "metadata": {
        "colab": {
          "base_uri": "https://localhost:8080/"
        },
        "id": "f7pK2rz3tS4P",
        "outputId": "030d50c4-243a-4e0e-975f-ce947666030a"
      },
      "source": [
        "m"
      ],
      "execution_count": 83,
      "outputs": [
        {
          "output_type": "execute_result",
          "data": {
            "text/plain": [
              "array([[  1,   2,   3,   4],\n",
              "       [  5,   6,   7, 200],\n",
              "       [  9,  10,  11,  12]])"
            ]
          },
          "metadata": {
            "tags": []
          },
          "execution_count": 83
        }
      ]
    },
    {
      "cell_type": "markdown",
      "metadata": {
        "id": "Izw91V8XtWN_"
      },
      "source": [
        "Since m.T and m share same memory and m.T is a different way to index.\n",
        "\n",
        "Hence, it is important to stay careful while updating values of matrix"
      ]
    },
    {
      "cell_type": "code",
      "metadata": {
        "colab": {
          "base_uri": "https://localhost:8080/"
        },
        "id": "86m7ck18tUDU",
        "outputId": "07ad4520-e6e6-4d81-fa06-8c2600a67b7f"
      },
      "source": [
        "# Neural networ use case\n",
        "\n",
        "inputs = np.array([[-0.27,  0.45,  0.64, 0.31]])\n",
        "inputs"
      ],
      "execution_count": 84,
      "outputs": [
        {
          "output_type": "execute_result",
          "data": {
            "text/plain": [
              "array([[-0.27,  0.45,  0.64,  0.31]])"
            ]
          },
          "metadata": {
            "tags": []
          },
          "execution_count": 84
        }
      ]
    },
    {
      "cell_type": "code",
      "metadata": {
        "colab": {
          "base_uri": "https://localhost:8080/"
        },
        "id": "eHDIte2StqPC",
        "outputId": "91c20ad7-429f-4047-ac3d-7af2db940108"
      },
      "source": [
        "inputs.shape"
      ],
      "execution_count": 85,
      "outputs": [
        {
          "output_type": "execute_result",
          "data": {
            "text/plain": [
              "(1, 4)"
            ]
          },
          "metadata": {
            "tags": []
          },
          "execution_count": 85
        }
      ]
    },
    {
      "cell_type": "code",
      "metadata": {
        "colab": {
          "base_uri": "https://localhost:8080/"
        },
        "id": "ZfuhQ4uEtsqF",
        "outputId": "be2ec069-9768-436d-daae-cdcc7c9ebebd"
      },
      "source": [
        "weights = np.array([[0.02, 0.001, -0.03, 0.036], \\\n",
        "    [0.04, -0.003, 0.025, 0.009], [0.012, -0.045, 0.28, -0.067]])\n",
        "\n",
        "weights"
      ],
      "execution_count": 86,
      "outputs": [
        {
          "output_type": "execute_result",
          "data": {
            "text/plain": [
              "array([[ 0.02 ,  0.001, -0.03 ,  0.036],\n",
              "       [ 0.04 , -0.003,  0.025,  0.009],\n",
              "       [ 0.012, -0.045,  0.28 , -0.067]])"
            ]
          },
          "metadata": {
            "tags": []
          },
          "execution_count": 86
        }
      ]
    },
    {
      "cell_type": "code",
      "metadata": {
        "colab": {
          "base_uri": "https://localhost:8080/"
        },
        "id": "_8xDayXPtzNt",
        "outputId": "c0f893d6-320f-4648-955f-9283328caee5"
      },
      "source": [
        "weights.shape"
      ],
      "execution_count": 87,
      "outputs": [
        {
          "output_type": "execute_result",
          "data": {
            "text/plain": [
              "(3, 4)"
            ]
          },
          "metadata": {
            "tags": []
          },
          "execution_count": 87
        }
      ]
    },
    {
      "cell_type": "code",
      "metadata": {
        "colab": {
          "base_uri": "https://localhost:8080/",
          "height": 182
        },
        "id": "oxuDUw2gt2Je",
        "outputId": "f30eb68f-0c11-4bf0-f63b-4546a1f72ef6"
      },
      "source": [
        "np.matmul(inputs,weights)"
      ],
      "execution_count": 89,
      "outputs": [
        {
          "output_type": "error",
          "ename": "ValueError",
          "evalue": "ignored",
          "traceback": [
            "\u001b[0;31m---------------------------------------------------------------------------\u001b[0m",
            "\u001b[0;31mValueError\u001b[0m                                Traceback (most recent call last)",
            "\u001b[0;32m<ipython-input-89-70521f8ec0e8>\u001b[0m in \u001b[0;36m<module>\u001b[0;34m()\u001b[0m\n\u001b[0;32m----> 1\u001b[0;31m \u001b[0mnp\u001b[0m\u001b[0;34m.\u001b[0m\u001b[0mmatmul\u001b[0m\u001b[0;34m(\u001b[0m\u001b[0minputs\u001b[0m\u001b[0;34m,\u001b[0m\u001b[0mweights\u001b[0m\u001b[0;34m)\u001b[0m\u001b[0;34m\u001b[0m\u001b[0;34m\u001b[0m\u001b[0m\n\u001b[0m",
            "\u001b[0;31mValueError\u001b[0m: matmul: Input operand 1 has a mismatch in its core dimension 0, with gufunc signature (n?,k),(k,m?)->(n?,m?) (size 3 is different from 4)"
          ]
        }
      ]
    },
    {
      "cell_type": "code",
      "metadata": {
        "colab": {
          "base_uri": "https://localhost:8080/"
        },
        "id": "lH-F8-d2t9Ux",
        "outputId": "640b4c69-eb34-4de3-9eac-c6ed5241ea20"
      },
      "source": [
        "np.matmul(inputs,weights.T)"
      ],
      "execution_count": 91,
      "outputs": [
        {
          "output_type": "execute_result",
          "data": {
            "text/plain": [
              "array([[-0.01299,  0.00664,  0.13494]])"
            ]
          },
          "metadata": {
            "tags": []
          },
          "execution_count": 91
        }
      ]
    },
    {
      "cell_type": "code",
      "metadata": {
        "colab": {
          "base_uri": "https://localhost:8080/"
        },
        "id": "QhFG3G8huAub",
        "outputId": "5c486244-3c68-43df-ec97-6fc35ac23623"
      },
      "source": [
        "np.matmul(weights,inputs.T)"
      ],
      "execution_count": 92,
      "outputs": [
        {
          "output_type": "execute_result",
          "data": {
            "text/plain": [
              "array([[-0.01299],\n",
              "       [ 0.00664],\n",
              "       [ 0.13494]])"
            ]
          },
          "metadata": {
            "tags": []
          },
          "execution_count": 92
        }
      ]
    },
    {
      "cell_type": "markdown",
      "metadata": {
        "id": "iO-fR4hsuGO9"
      },
      "source": [
        "Thus same matrix multiplication is showed here for both cases but just into a transposed form"
      ]
    },
    {
      "cell_type": "code",
      "metadata": {
        "id": "NIpIgJMPuEX9"
      },
      "source": [
        ""
      ],
      "execution_count": null,
      "outputs": []
    }
  ]
}